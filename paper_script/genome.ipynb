{
 "cells": [
  {
   "cell_type": "code",
   "execution_count": 2,
   "metadata": {},
   "outputs": [],
   "source": [
    "import numpy as np\n",
    "from tqdm import tqdm\n",
    "from Genomepy.elements.Blast_chunk import blast_chunk\n",
    "from Genomepy.elements.Gene_chunk import gene_chunk\n",
    "from Genomepy.elements.Contig import Contig\n",
    "from Genomepy.elements.GFF_line import gf_line\n",
    "from genome import Contig\n",
    "from genome import Fasta_File\n",
    "from genome import Genome_file\n",
    "import sys, os"
   ]
  },
  {
   "cell_type": "code",
   "execution_count": 3,
   "metadata": {},
   "outputs": [],
   "source": [
    "def contig_sort(input_path,output_path,format_name = \"Scaffold\"):\n",
    "    f = open(input_path,\"r\")\n",
    "    tg = Genome_file(f)\n",
    "    tg.print_stat()\n",
    "    tg.sort_by_contigLength()\n",
    "    tg.print_stat()\n",
    "    tg.contig_name_formating(\"Scaffold\")\n",
    "    tg.Write_New_Genome(output_path)\n",
    "    f.close()\n"
   ]
  },
  {
   "cell_type": "code",
   "execution_count": 5,
   "metadata": {},
   "outputs": [
    {
     "name": "stdout",
     "output_type": "stream",
     "text": [
      "1350\n",
      "Starting to Construct 675 Contig From input Fasta file!\n",
      "Done!\n",
      "[3499662, 12821161, 66610997, 27947898, 48403088]\n",
      "[70474593, 66610997, 64332381, 59647770, 58062443]\n"
     ]
    }
   ],
   "source": [
    "wd = '/home/taein/Denovo/Workings/jk_script/hibiscus'\n",
    "dir = f'{wd}/working/results_hibiscus_opt_0.54'\n",
    "in_prefix = 'hibscus_opt_0.54'\n",
    "out_prefix = 'hibiscus.genome'\n",
    "\n",
    "inpath = f'{dir}/{in_prefix}.fa'\n",
    "outpath = f'{dir}/{out_prefix}.fa'\n",
    "contig_sort(inpath,outpath,format_name='Contig')\n",
    "os.system(f'cp {outpath} {wd}/results')\n",
    "\n",
    "inpath = f'{dir}/{in_prefix}.h1.fa'\n",
    "outpath = f'{dir}/{out_prefix}.h1.fa'\n",
    "contig_sort(inpath,outpath,format_name='Contig')\n",
    "os.system(f'cp {outpath} {wd}/results')\n",
    "\n",
    "inpath = f'{dir}/{in_prefix}.h2.fa'\n",
    "outpath = f'{dir}/{out_prefix}.h2.fa'\n",
    "contig_sort(inpath,outpath,format_name='Contig')\n",
    "os.system(f'cp {outpath} {wd}/results')\n",
    "\n",
    "# Use out_prefix for preifix of repeat_model"
   ]
  }
 ],
 "metadata": {
  "kernelspec": {
   "display_name": "base",
   "language": "python",
   "name": "python3"
  },
  "language_info": {
   "codemirror_mode": {
    "name": "ipython",
    "version": 3
   },
   "file_extension": ".py",
   "mimetype": "text/x-python",
   "name": "python",
   "nbconvert_exporter": "python",
   "pygments_lexer": "ipython3",
   "version": "3.9.7"
  },
  "orig_nbformat": 4
 },
 "nbformat": 4,
 "nbformat_minor": 2
}
